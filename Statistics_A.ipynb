{
  "nbformat": 4,
  "nbformat_minor": 0,
  "metadata": {
    "colab": {
      "provenance": []
    },
    "kernelspec": {
      "name": "python3",
      "display_name": "Python 3"
    },
    "language_info": {
      "name": "python"
    }
  },
  "cells": [
    {
      "cell_type": "markdown",
      "source": [
        "**STATISTICS BASICS**\n",
        "\n",
        "**THEORETICAL QUESTIONS**"
      ],
      "metadata": {
        "id": "A8WmujbYJrXt"
      }
    },
    {
      "cell_type": "markdown",
      "source": [
        "**Question 1: What is the difference between descriptive statistics and inferential statistics? Explain with examples.**\n",
        "->\n",
        "\n",
        "***Descriptive Statistics:***\n",
        "\n",
        "-Purpose:\n",
        "To organize, summarize, and present data in a meaningful way.\n",
        "\n",
        "-Methods:\n",
        "Uses measures like mean, median, standard deviation, frequency distributions, and graphical representations (histograms, charts).\n",
        "\n",
        "-Focus:\n",
        "Describes the data at hand without making inferences beyond the sample or population being studied.\n",
        "\n",
        "-Example:\n",
        "Calculating the average height of students in a particular class (describing the characteristics of that specific class).\n",
        "\n",
        "-Key takeaway:\n",
        "It provides a snapshot of the data, revealing patterns and trends within that specific data set.\n",
        "\n",
        "**Inferential Statistics:**\n",
        "\n",
        "-Purpose:\n",
        "To draw conclusions or make predictions about a population based on a sample of data.\n",
        "\n",
        "-Methods:\n",
        "Uses techniques like hypothesis testing, confidence intervals, regression analysis, and probability.\n",
        "\n",
        "-Focus:\n",
        "To generalize findings from a sample to a larger population, accounting for uncertainty and variability.\n",
        "\n",
        "-Example:\n",
        "Using data from a sample of voters to predict the outcome of a national election (generalizing from a sample to the entire voting population).\n",
        "\n",
        "-Key takeaway:\n",
        "It allows researchers to make informed decisions and predictions about larger groups based on limited data.\n"
      ],
      "metadata": {
        "id": "pGQvAq9sJySN"
      }
    },
    {
      "cell_type": "markdown",
      "source": [
        "**Question 2: What is sampling in statistics? Explain the differences between random and stratified sampling.**\n",
        "->\n",
        "Sampling is the process of selecting a subset (called a sample) from a larger group (called a population) to gather information and make inferences about the entire population. It is used when it's impractical or impossible to study the whole population due to time, cost, or logistical reasons.\n",
        "\n",
        "| Feature        | Random Sampling                     | Stratified Sampling                         |\n",
        "| -------------- | ----------------------------------- | ------------------------------------------- |\n",
        "| Definition     | Every individual has equal chance   | Population is divided into groups (strata)  |\n",
        "| Grouping       | No grouping                         | Divided based on specific characteristics   |\n",
        "| Representation | May not represent all subgroups     | Ensures representation of all key subgroups |\n",
        "| Example        | Pick 10 names at random from a list | Pick 5 boys and 5 girls from separate lists |\n",
        "| Use Case       | Homogeneous population              | Heterogeneous population                    |\n",
        "\n"
      ],
      "metadata": {
        "id": "RbUE2byKKSgO"
      }
    },
    {
      "cell_type": "markdown",
      "source": [
        "**Question 3: Define mean, median, and mode. Explain why these measures of central tendency are important.**\n",
        "->\n",
        "**Mean (Average):**\n",
        "The mean is the sum of all values divided by the number of values.\n",
        "\n",
        "**Formula:**\n",
        "\n",
        "**Mean**\n",
        "=\n",
        "Sum of all values\n",
        "Number of values\n",
        "Mean=\n",
        "Number of values\n",
        "Sum of all values\n",
        "​\n",
        "\n",
        "**Example:**\n",
        "For the values 4, 6, 8:\n",
        "\n",
        "\n",
        "**Mean**\n",
        "=\n",
        "4\n",
        "+\n",
        "6\n",
        "+\n",
        "8\n",
        "3\n",
        "=\n",
        "18\n",
        "3\n",
        "=\n",
        "6\n",
        "Mean=\n",
        "3\n",
        "4+6+8\n",
        "​\n",
        " =\n",
        "3\n",
        "18\n",
        "​\n",
        " =6\n",
        "\n",
        "\n",
        "\n",
        "**Median:**\n",
        "\n",
        "The median is the middle value when the numbers are arranged in order.\n",
        "\n",
        "If there is an odd number of values, the middle one is the median.\n",
        "\n",
        "If there is an even number, the median is the average of the two middle values.\n",
        "**Example:**\n",
        "For the values 3, 5, 7 → Median = 5\n",
        "For 3, 5, 7, 9 → Median = (5 + 7) ÷ 2 = 6\n",
        "\n",
        "\n",
        "**Mode:**\n",
        "\n",
        "The mode is the value that occurs most frequently in a data set.\n",
        "\n",
        "A set may have no mode, one mode, or multiple modes.\n",
        "\n",
        "**Example:**\n",
        "\n",
        "**For the values 2, 4, 4, 6, 8 → Mode = 4**\n",
        "\n",
        "**Why Are These Measures Important?**\n",
        "\n",
        "These three are called measures of central tendency because they summarize a large dataset with a single representative value. Here's why they are important:\n",
        "\n",
        "\n",
        "| Measure    | Importance                                                                                                                               |\n",
        "| ---------- | ---------------------------------------------------------------------------------------------------------------------------------------- |\n",
        "| **Mean**   | - Considers all data values<br>- Useful for further statistical analysis (e.g., variance, standard deviation)<br>- Sensitive to outliers |\n",
        "| **Median** | - Represents the middle of the data<br>- Not affected by outliers or extreme values<br>- Good for skewed distributions                   |\n",
        "| **Mode**   | - Identifies most frequent item<br>- Useful for categorical data<br>- Can highlight peaks in data                                        |\n"
      ],
      "metadata": {
        "id": "o5Vo_O5oLrZt"
      }
    },
    {
      "cell_type": "markdown",
      "source": [
        "**Question 4: Explain skewness and kurtosis. What does a positive skew imply about the data?**\n",
        "->\n",
        "** Skewness and kurtosis are statistical measures that describe the shape and distribution of a dataset.\n",
        "\n",
        "**Skewness**\n",
        "\n",
        "Skewness refers to the asymmetry of a data distribution. If the data is perfectly symmetrical (like a normal distribution), the skewness is zero.\n",
        "\n",
        "**A positive skew** (right-skewed) means the right tail is longer, and most of the data values are concentrated on the left. This implies that a few unusually high values are pulling the mean to the right.\n",
        "\n",
        "**A negative skew** (left-skewed) means the left tail is longer, and most data values are on the right, with some lower values pulling the mean down.\n",
        "\n",
        "**Kurtosis**-\n",
        "\n",
        "Kurtosis measures the \"tailedness\" or peakedness of the data distribution.\n",
        "\n",
        "**High kurtosis** (leptokurtic) indicates a sharp peak and heavy tails, meaning more outliers.\n",
        "\n",
        "**Low kurtosis** (platykurtic) indicates a flatter peak and thinner tails, with fewer outliers.\n",
        "\n",
        "**Normal kurtosis** (mesokurtic) is the standard bell-shaped curve with moderate tails.\n",
        "\n",
        "**What does a positive skew imply about the data?**\n",
        "\n",
        "A positive skew implies that the dataset has a long tail on the right side, with a few large values that are higher than the majority. In this case, the mean is greater than the median, indicating that the average is being influenced by these high values. This type of distribution is common in real-world data like income levels, where most people earn less, and a few earn very high incomes.\n"
      ],
      "metadata": {
        "id": "aQBfIytlMXrT"
      }
    },
    {
      "cell_type": "code",
      "source": [
        "#Question 5: Implement a Python program to compute the mean, median, and mode of\n",
        "# a given list of numbers.\n",
        "\n",
        "numbers = [12, 15, 12, 18, 19, 12, 20, 22, 19, 19, 24, 24, 24, 26, 28]\n",
        "import statistics\n",
        "\n",
        "mean = statistics.mean(numbers)\n",
        "\n",
        "median = statistics.median(numbers)\n",
        "\n",
        "mode = statistics.mode(numbers)\n",
        "\n",
        "# Display results\n",
        "print(\"Mean:\", mean)\n",
        "print(\"Median:\", median)\n",
        "print(\"Mode:\", mode)\n",
        "\n"
      ],
      "metadata": {
        "colab": {
          "base_uri": "https://localhost:8080/"
        },
        "id": "1ayVGZ7tM-qF",
        "outputId": "555d795d-4b3a-4417-e226-bfac72618276"
      },
      "execution_count": 1,
      "outputs": [
        {
          "output_type": "stream",
          "name": "stdout",
          "text": [
            "Mean: 19.6\n",
            "Median: 19\n",
            "Mode: 12\n"
          ]
        }
      ]
    },
    {
      "cell_type": "code",
      "source": [
        "#Question 6: Compute the covariance and correlation coefficient between the following\n",
        "#two datasets provided as lists in Python:\n",
        "\n",
        "list_x = [10, 20, 30, 40, 50]\n",
        "list_y = [15, 25, 35, 45, 60]\n",
        "\n",
        "import statistics\n",
        "import numpy as np\n",
        "\n",
        "mean_x = statistics.mean(list_x)\n",
        "mean_y = statistics.mean(list_y)\n",
        "\n",
        "# Compute covariance\n",
        "covariance = sum((x - mean_x) * (y - mean_y) for x, y in zip(list_x, list_y)) / len(list_x)\n",
        "\n",
        "# Compute correlation using numpy\n",
        "correlation_matrix = np.corrcoef(list_x, list_y)\n",
        "correlation = correlation_matrix[0][1]\n",
        "\n",
        "# Display results\n",
        "print(\"Covariance:\", covariance)\n",
        "print(\"Correlation Coefficient (r):\", correlation)\n",
        "\n"
      ],
      "metadata": {
        "colab": {
          "base_uri": "https://localhost:8080/"
        },
        "id": "UHHyuRNfNd3m",
        "outputId": "ffbbaf1d-48ac-4df4-b06b-f02ee454b3d1"
      },
      "execution_count": 2,
      "outputs": [
        {
          "output_type": "stream",
          "name": "stdout",
          "text": [
            "Covariance: 220.0\n",
            "Correlation Coefficient (r): 0.995893206467704\n"
          ]
        }
      ]
    },
    {
      "cell_type": "code",
      "source": [
        "#Question 7: Write a Python script to draw a boxplot for the following numeric list and\n",
        "#identify its outliers. Explain the result:\n",
        "\n",
        "data = [12, 14, 14, 15, 18, 19, 19, 21, 22, 22, 23, 23, 24, 26, 29, 35]\n",
        "\n",
        "import matplotlib.pyplot as plt\n",
        "\n",
        "# Create boxplot\n",
        "plt.boxplot(data, vert=False, patch_artist=True, boxprops=dict(facecolor='lightblue'))\n",
        "plt.title('Boxplot of Data')\n",
        "plt.xlabel('Values')\n",
        "plt.grid(True)\n",
        "\n",
        "# Show plot\n",
        "plt.show()\n"
      ],
      "metadata": {
        "colab": {
          "base_uri": "https://localhost:8080/",
          "height": 472
        },
        "id": "tzARBM2LNzrT",
        "outputId": "a9756f65-60cc-4f76-f8eb-146bbd511218"
      },
      "execution_count": 3,
      "outputs": [
        {
          "output_type": "display_data",
          "data": {
            "text/plain": [
              "<Figure size 640x480 with 1 Axes>"
            ],
            "image/png": "[encoded data removed]"
          },
          "metadata": {}
        }
      ]
    },
    {
      "cell_type": "code",
      "source": [
        "#Question 8: You are working as a data analyst in an e-commerce company. The\n",
        "#marketing team wants to know if there is a relationship between advertising spend and\n",
        "#daily sales.\n",
        "#● Explain how you would use covariance and correlation to explore this\n",
        "#relationship.\n",
        "#● Write Python code to compute the correlation between the two lists:\n",
        "\n",
        "advertising_spend = [200, 250, 300, 400, 500]\n",
        "daily_sales = [2200, 2450, 2750, 3200, 4000]\n",
        "\n",
        "import numpy as np\n",
        "\n",
        "# Calculate the covariance\n",
        "covariance = np.cov(advertising_spend, daily_sales)[0][1]\n",
        "\n",
        "# Calculate the correlation\n",
        "correlation = np.corrcoef(advertising_spend, daily_sales)[0, 1]\n",
        "\n",
        "print(f\"Covariance: {covariance}\")\n",
        "print(f\"Correlation: {correlation}\")\n"
      ],
      "metadata": {
        "colab": {
          "base_uri": "https://localhost:8080/"
        },
        "id": "iyYLgIrIOC70",
        "outputId": "af8ab876-cbd2-4b8b-936e-e95c1e7953d0"
      },
      "execution_count": 4,
      "outputs": [
        {
          "output_type": "stream",
          "name": "stdout",
          "text": [
            "Covariance: 84875.0\n",
            "Correlation: 0.9935824101653329\n"
          ]
        }
      ]
    },
    {
      "cell_type": "code",
      "source": [
        "#Question 9: Your team has collected customer satisfaction survey data on a scale of\n",
        "#1-10 and wants to understand its distribution before launching a new product.\n",
        "#● Explain which summary statistics and visualizations (e.g. mean, standard\n",
        "#deviation, histogram) you’d use.\n",
        "#● Write Python code to create a histogram using Matplotlib for the survey data:\n",
        "\n",
        "survey_scores = [7, 8, 5, 9, 6, 7, 8, 9, 10, 4, 7, 6, 9, 8, 7]\n",
        "\n",
        "import matplotlib.pyplot as plt\n",
        "\n",
        "# Calculate summary statistics\n",
        "mean_score = sum(survey_scores) / len(survey_scores)\n",
        "squared_differences = [(score - mean_score) ** 2 for score in survey_scores]\n",
        "variance = sum(squared_differences) / len(survey_scores)\n",
        "std_dev = variance ** 0.5\n",
        "\n",
        "print(f\"Mean score: {mean_score:.2f}\")\n",
        "print(f\"Standard deviation: {std_dev:.2f}\")\n",
        "\n",
        "# Create histogram\n",
        "plt.hist(survey_scores, bins=10, edgecolor='black', range=(1, 10))\n",
        "plt.xlabel(\"Survey Score\")\n",
        "plt.ylabel(\"Frequency\")\n",
        "plt.title(\"Distribution of Customer Satisfaction Scores\")\n",
        "plt.xticks(range(1, 11))\n",
        "plt.show()"
      ],
      "metadata": {
        "colab": {
          "base_uri": "https://localhost:8080/",
          "height": 507
        },
        "id": "CNiV4nciOpDn",
        "outputId": "c8760a2b-5697-40ae-d2eb-32554d40c6fd"
      },
      "execution_count": 5,
      "outputs": [
        {
          "output_type": "stream",
          "name": "stdout",
          "text": [
            "Mean score: 7.33\n",
            "Standard deviation: 1.58\n"
          ]
        },
        {
          "output_type": "display_data",
          "data": {
            "text/plain": [
              "<Figure size 640x480 with 1 Axes>"
            ],
            "image/png": "[encoded data removed]"
          },
          "metadata": {}
        }
      ]
    },
    {
      "cell_type": "code",
      "source": [],
      "metadata": {
        "id": "SzvRDTJ6O-P_"
      },
      "execution_count": null,
      "outputs": []
    }
  ]
}